{
 "cells": [
  {
   "cell_type": "code",
   "execution_count": null,
   "metadata": {},
   "outputs": [],
   "source": [
    "from threeplot import GridCrossWidget, GridStyle, GridlineStyle\n",
    "import pythreejs as three\n",
    "from ipyscales import LinearScaleWidget"
   ]
  },
  {
   "cell_type": "code",
   "execution_count": null,
   "metadata": {},
   "outputs": [],
   "source": [
    "scales = []\n",
    "for i in range(3):\n",
    "    scales.append(LinearScaleWidget(\n",
    "        range=(i, 1 + 2 * i),\n",
    "        domain=(i, 1 + 2 * i),\n",
    "    ))"
   ]
  },
  {
   "cell_type": "code",
   "execution_count": null,
   "metadata": {},
   "outputs": [],
   "source": [
    "axes = GridCrossWidget(\n",
    "    scales=scales,\n",
    "    line_color='black',\n",
    "    grid_styles=[GridStyle(major_style=GridlineStyle(line_color='red')),\n",
    "                 GridStyle(major_style=GridlineStyle(line_color='green')),\n",
    "                 GridStyle(major_style=GridlineStyle(line_color='blue'))]\n",
    ")"
   ]
  },
  {
   "cell_type": "code",
   "execution_count": null,
   "metadata": {},
   "outputs": [],
   "source": [
    "view_width = 600\n",
    "view_height = 400\n",
    "\n",
    "camera = three.CombinedCamera(position=[3, 2, 3], width=view_width, height=view_height)\n",
    "\n",
    "key_light = three.DirectionalLight(position=[0, 10, 10])\n",
    "key_light.lookAt([0, 0, 0])\n",
    "ambient_light = three.AmbientLight(intensity=0.4)\n",
    "\n",
    "scene = three.Scene(children=[axes, key_light, ambient_light, camera], background='#f8f8f8')"
   ]
  },
  {
   "cell_type": "code",
   "execution_count": null,
   "metadata": {},
   "outputs": [],
   "source": [
    "controller = three.OrbitControls(controlling=camera)\n",
    "three.Renderer( camera=camera, scene=scene, controls=[controller], width=view_width, height=view_height)"
   ]
  },
  {
   "cell_type": "code",
   "execution_count": null,
   "metadata": {},
   "outputs": [],
   "source": [
    "camera.mode = 'orthographic'"
   ]
  },
  {
   "cell_type": "code",
   "execution_count": null,
   "metadata": {},
   "outputs": [],
   "source": [
    "camera.mode = 'perspective'"
   ]
  }
 ],
 "metadata": {
  "kernelspec": {
   "display_name": "Python 3",
   "language": "python",
   "name": "python3"
  },
  "language_info": {
   "codemirror_mode": {
    "name": "ipython",
    "version": 3
   },
   "file_extension": ".py",
   "mimetype": "text/x-python",
   "name": "python",
   "nbconvert_exporter": "python",
   "pygments_lexer": "ipython3",
   "version": "3.5.4"
  }
 },
 "nbformat": 4,
 "nbformat_minor": 2
}
